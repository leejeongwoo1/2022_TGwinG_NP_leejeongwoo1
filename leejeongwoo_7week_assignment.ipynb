{
 "cells": [
  {
   "cell_type": "markdown",
   "id": "14cee6f2",
   "metadata": {},
   "source": [
    "# [T.G.WinG Web/Python] Algorithm 과제\n",
    "\n",
    "제출 기한: 5월 27일 금요일 자정<br>\n",
    "제출 포맷: .ipynb<br>\n",
    "제출 플랫폼: GitHub<br>"
   ]
  },
  {
   "cell_type": "markdown",
   "id": "f2c3061c",
   "metadata": {},
   "source": [
    "### 1. Insertion Sort 의 경우 binary Search 를 이용해 최적화 할 수 있습니다. 아래 링크를 읽고 Linear Search 가 아닌 binary Search 를 이용해 Insertion sort 를 최적화 시켜 보세요. [20점] <br>\n",
    "[링크: [Binary-Insertion-Sort](https://www.interviewkickstart.com/learn/binary-insertion-sort)]"
   ]
  },
  {
   "cell_type": "code",
   "execution_count": null,
   "id": "07d3a42b",
   "metadata": {},
   "outputs": [],
   "source": [
    "def binaryInsertionSort(array):\n",
    "    return \"BinaryInsertionSort\""
   ]
  },
  {
   "cell_type": "markdown",
   "id": "2004993a",
   "metadata": {},
   "source": [
    "### 2. Sorting Algorithm 은 Stable 한 알고리즘과 Stable 하지 않은 알고리즘으로 나뉩니다. Stable 하다는 것이 무엇인지 설명하고, 다음 알고리즘들이 Stable 한지 아닌지 분류하세요. [10 점]<br>\n",
    "[Merge, Insertion, Selection, Quick, Bubble]"
   ]
  },
  {
   "cell_type": "markdown",
   "id": "6677d1db",
   "metadata": {},
   "source": [
    "[2번 문제 답안 입력 블럭]"
   ]
  },
  {
   "cell_type": "markdown",
   "id": "f3acb76b",
   "metadata": {},
   "source": [
    "### 3. Sorting Algorithm 은 In-place 알고리즘과 not-in-place 알고리즘으로 나뉩니다. In-place 가 어떤 것인지, 그리고 다음 알고리즘들이 In- place 인지 아닌지 분류하세요. [10 점]<br>\n",
    "[Merge, Insertion, Selection, Quick, Bubble]"
   ]
  },
  {
   "cell_type": "markdown",
   "id": "0d8d686f",
   "metadata": {},
   "source": [
    "### 4. 다음 링크를 보고 Quick Sort 를 구현하세요. [20 점]\n",
    "[링크: [Binary-Insertion-Sort](https://www.programiz.com/dsa/quick-sort)]"
   ]
  },
  {
   "cell_type": "code",
   "execution_count": null,
   "id": "d8d2e764",
   "metadata": {},
   "outputs": [],
   "source": [
    "def quickSort(array, low, high):\n",
    "    return \"QuickSort\""
   ]
  },
  {
   "cell_type": "markdown",
   "id": "81d36b6e",
   "metadata": {},
   "source": [
    "### 5. Python에서는 기본적으로 sort 함수를 제공합니다. 검색해서, 어떤 sort를 사용하는지 쓰시고, 해당 알고리즘에 대해서 읽어보시고, 이해하신 대로 작성하세요. [20 점]\n",
    "```python\n",
    "nums = [1,3,4,6,8,123,124,12,31512,7]\n",
    "nums.sort() # 이 코드의 Sorting Algorithm은 어떤 Algorithm일까요?\n",
    "print(nums) #[1,3,4,6,7,8,12,123,124,31512]\n",
    "```"
   ]
  },
  {
   "cell_type": "markdown",
   "id": "10cd4b50",
   "metadata": {},
   "source": [
    "[5번 문제 답안 입력 블럭]"
   ]
  },
  {
   "cell_type": "markdown",
   "id": "f29b7766",
   "metadata": {},
   "source": [
    "### 6. 유클리드 호제법에 대해서 검색하고, 이용해서 102734612322 과 292237644의 최대 공약수를 구하세요. [20 점]"
   ]
  },
  {
   "cell_type": "markdown",
   "id": "ea7c0cfa",
   "metadata": {},
   "source": [
    "[6번 문제 답안 입력 블럭]"
   ]
  }
 ],
 "metadata": {
  "kernelspec": {
   "display_name": "Python 3 (ipykernel)",
   "language": "python",
   "name": "python3"
  },
  "language_info": {
   "codemirror_mode": {
    "name": "ipython",
    "version": 3
   },
   "file_extension": ".py",
   "mimetype": "text/x-python",
   "name": "python",
   "nbconvert_exporter": "python",
   "pygments_lexer": "ipython3",
   "version": "3.9.12"
  }
 },
 "nbformat": 4,
 "nbformat_minor": 5
}
